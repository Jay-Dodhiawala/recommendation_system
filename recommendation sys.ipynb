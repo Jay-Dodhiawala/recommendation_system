{
 "cells": [
  {
   "cell_type": "code",
   "execution_count": 1,
   "metadata": {
    "collapsed": true
   },
   "outputs": [],
   "source": [
    "import numpy as np\n",
    "import pandas as pd"
   ]
  },
  {
   "cell_type": "code",
   "execution_count": 2,
   "outputs": [],
   "source": [
    "movies = pd.read_csv('tmdb_5000_movies.csv')\n",
    "credits = pd.read_csv('tmdb_5000_credits.csv')"
   ],
   "metadata": {
    "collapsed": false
   }
  },
  {
   "cell_type": "code",
   "execution_count": 3,
   "outputs": [
    {
     "data": {
      "text/plain": "      budget                                             genres   \n0  237000000  [{\"id\": 28, \"name\": \"Action\"}, {\"id\": 12, \"nam...  \\\n\n                      homepage     id   \n0  http://www.avatarmovie.com/  19995  \\\n\n                                            keywords original_language   \n0  [{\"id\": 1463, \"name\": \"culture clash\"}, {\"id\":...                en  \\\n\n  original_title                                           overview   \n0         Avatar  In the 22nd century, a paraplegic Marine is di...  \\\n\n   popularity                               production_companies   \n0  150.437577  [{\"name\": \"Ingenious Film Partners\", \"id\": 289...  \\\n\n                                production_countries release_date     revenue   \n0  [{\"iso_3166_1\": \"US\", \"name\": \"United States o...   2009-12-10  2787965087  \\\n\n   runtime                                   spoken_languages    status   \n0    162.0  [{\"iso_639_1\": \"en\", \"name\": \"English\"}, {\"iso...  Released  \\\n\n                       tagline   title  vote_average  vote_count  \n0  Enter the World of Pandora.  Avatar           7.2       11800  ",
      "text/html": "<div>\n<style scoped>\n    .dataframe tbody tr th:only-of-type {\n        vertical-align: middle;\n    }\n\n    .dataframe tbody tr th {\n        vertical-align: top;\n    }\n\n    .dataframe thead th {\n        text-align: right;\n    }\n</style>\n<table border=\"1\" class=\"dataframe\">\n  <thead>\n    <tr style=\"text-align: right;\">\n      <th></th>\n      <th>budget</th>\n      <th>genres</th>\n      <th>homepage</th>\n      <th>id</th>\n      <th>keywords</th>\n      <th>original_language</th>\n      <th>original_title</th>\n      <th>overview</th>\n      <th>popularity</th>\n      <th>production_companies</th>\n      <th>production_countries</th>\n      <th>release_date</th>\n      <th>revenue</th>\n      <th>runtime</th>\n      <th>spoken_languages</th>\n      <th>status</th>\n      <th>tagline</th>\n      <th>title</th>\n      <th>vote_average</th>\n      <th>vote_count</th>\n    </tr>\n  </thead>\n  <tbody>\n    <tr>\n      <th>0</th>\n      <td>237000000</td>\n      <td>[{\"id\": 28, \"name\": \"Action\"}, {\"id\": 12, \"nam...</td>\n      <td>http://www.avatarmovie.com/</td>\n      <td>19995</td>\n      <td>[{\"id\": 1463, \"name\": \"culture clash\"}, {\"id\":...</td>\n      <td>en</td>\n      <td>Avatar</td>\n      <td>In the 22nd century, a paraplegic Marine is di...</td>\n      <td>150.437577</td>\n      <td>[{\"name\": \"Ingenious Film Partners\", \"id\": 289...</td>\n      <td>[{\"iso_3166_1\": \"US\", \"name\": \"United States o...</td>\n      <td>2009-12-10</td>\n      <td>2787965087</td>\n      <td>162.0</td>\n      <td>[{\"iso_639_1\": \"en\", \"name\": \"English\"}, {\"iso...</td>\n      <td>Released</td>\n      <td>Enter the World of Pandora.</td>\n      <td>Avatar</td>\n      <td>7.2</td>\n      <td>11800</td>\n    </tr>\n  </tbody>\n</table>\n</div>"
     },
     "execution_count": 3,
     "metadata": {},
     "output_type": "execute_result"
    }
   ],
   "source": [
    "movies.head(1)"
   ],
   "metadata": {
    "collapsed": false
   }
  },
  {
   "cell_type": "code",
   "execution_count": 4,
   "outputs": [
    {
     "data": {
      "text/plain": "   movie_id   title                                               cast   \n0     19995  Avatar  [{\"cast_id\": 242, \"character\": \"Jake Sully\", \"...  \\\n\n                                                crew  \n0  [{\"credit_id\": \"52fe48009251416c750aca23\", \"de...  ",
      "text/html": "<div>\n<style scoped>\n    .dataframe tbody tr th:only-of-type {\n        vertical-align: middle;\n    }\n\n    .dataframe tbody tr th {\n        vertical-align: top;\n    }\n\n    .dataframe thead th {\n        text-align: right;\n    }\n</style>\n<table border=\"1\" class=\"dataframe\">\n  <thead>\n    <tr style=\"text-align: right;\">\n      <th></th>\n      <th>movie_id</th>\n      <th>title</th>\n      <th>cast</th>\n      <th>crew</th>\n    </tr>\n  </thead>\n  <tbody>\n    <tr>\n      <th>0</th>\n      <td>19995</td>\n      <td>Avatar</td>\n      <td>[{\"cast_id\": 242, \"character\": \"Jake Sully\", \"...</td>\n      <td>[{\"credit_id\": \"52fe48009251416c750aca23\", \"de...</td>\n    </tr>\n  </tbody>\n</table>\n</div>"
     },
     "execution_count": 4,
     "metadata": {},
     "output_type": "execute_result"
    }
   ],
   "source": [
    "credits.head(1)"
   ],
   "metadata": {
    "collapsed": false
   }
  },
  {
   "cell_type": "code",
   "execution_count": 5,
   "outputs": [],
   "source": [
    "movies = movies.merge(credits, on='title')"
   ],
   "metadata": {
    "collapsed": false
   }
  },
  {
   "cell_type": "code",
   "execution_count": 6,
   "outputs": [
    {
     "data": {
      "text/plain": "      budget                                             genres   \n0  237000000  [{\"id\": 28, \"name\": \"Action\"}, {\"id\": 12, \"nam...  \\\n\n                      homepage     id   \n0  http://www.avatarmovie.com/  19995  \\\n\n                                            keywords original_language   \n0  [{\"id\": 1463, \"name\": \"culture clash\"}, {\"id\":...                en  \\\n\n  original_title                                           overview   \n0         Avatar  In the 22nd century, a paraplegic Marine is di...  \\\n\n   popularity                               production_companies  ... runtime   \n0  150.437577  [{\"name\": \"Ingenious Film Partners\", \"id\": 289...  ...   162.0  \\\n\n                                    spoken_languages    status   \n0  [{\"iso_639_1\": \"en\", \"name\": \"English\"}, {\"iso...  Released  \\\n\n                       tagline   title vote_average vote_count movie_id   \n0  Enter the World of Pandora.  Avatar          7.2      11800    19995  \\\n\n                                                cast   \n0  [{\"cast_id\": 242, \"character\": \"Jake Sully\", \"...  \\\n\n                                                crew  \n0  [{\"credit_id\": \"52fe48009251416c750aca23\", \"de...  \n\n[1 rows x 23 columns]",
      "text/html": "<div>\n<style scoped>\n    .dataframe tbody tr th:only-of-type {\n        vertical-align: middle;\n    }\n\n    .dataframe tbody tr th {\n        vertical-align: top;\n    }\n\n    .dataframe thead th {\n        text-align: right;\n    }\n</style>\n<table border=\"1\" class=\"dataframe\">\n  <thead>\n    <tr style=\"text-align: right;\">\n      <th></th>\n      <th>budget</th>\n      <th>genres</th>\n      <th>homepage</th>\n      <th>id</th>\n      <th>keywords</th>\n      <th>original_language</th>\n      <th>original_title</th>\n      <th>overview</th>\n      <th>popularity</th>\n      <th>production_companies</th>\n      <th>...</th>\n      <th>runtime</th>\n      <th>spoken_languages</th>\n      <th>status</th>\n      <th>tagline</th>\n      <th>title</th>\n      <th>vote_average</th>\n      <th>vote_count</th>\n      <th>movie_id</th>\n      <th>cast</th>\n      <th>crew</th>\n    </tr>\n  </thead>\n  <tbody>\n    <tr>\n      <th>0</th>\n      <td>237000000</td>\n      <td>[{\"id\": 28, \"name\": \"Action\"}, {\"id\": 12, \"nam...</td>\n      <td>http://www.avatarmovie.com/</td>\n      <td>19995</td>\n      <td>[{\"id\": 1463, \"name\": \"culture clash\"}, {\"id\":...</td>\n      <td>en</td>\n      <td>Avatar</td>\n      <td>In the 22nd century, a paraplegic Marine is di...</td>\n      <td>150.437577</td>\n      <td>[{\"name\": \"Ingenious Film Partners\", \"id\": 289...</td>\n      <td>...</td>\n      <td>162.0</td>\n      <td>[{\"iso_639_1\": \"en\", \"name\": \"English\"}, {\"iso...</td>\n      <td>Released</td>\n      <td>Enter the World of Pandora.</td>\n      <td>Avatar</td>\n      <td>7.2</td>\n      <td>11800</td>\n      <td>19995</td>\n      <td>[{\"cast_id\": 242, \"character\": \"Jake Sully\", \"...</td>\n      <td>[{\"credit_id\": \"52fe48009251416c750aca23\", \"de...</td>\n    </tr>\n  </tbody>\n</table>\n<p>1 rows × 23 columns</p>\n</div>"
     },
     "execution_count": 6,
     "metadata": {},
     "output_type": "execute_result"
    }
   ],
   "source": [
    "movies.head(1)"
   ],
   "metadata": {
    "collapsed": false
   }
  },
  {
   "cell_type": "code",
   "execution_count": 7,
   "outputs": [
    {
     "name": "stdout",
     "output_type": "stream",
     "text": [
      "<class 'pandas.core.frame.DataFrame'>\n",
      "RangeIndex: 4809 entries, 0 to 4808\n",
      "Data columns (total 23 columns):\n",
      " #   Column                Non-Null Count  Dtype  \n",
      "---  ------                --------------  -----  \n",
      " 0   budget                4809 non-null   int64  \n",
      " 1   genres                4809 non-null   object \n",
      " 2   homepage              1713 non-null   object \n",
      " 3   id                    4809 non-null   int64  \n",
      " 4   keywords              4809 non-null   object \n",
      " 5   original_language     4809 non-null   object \n",
      " 6   original_title        4809 non-null   object \n",
      " 7   overview              4806 non-null   object \n",
      " 8   popularity            4809 non-null   float64\n",
      " 9   production_companies  4809 non-null   object \n",
      " 10  production_countries  4809 non-null   object \n",
      " 11  release_date          4808 non-null   object \n",
      " 12  revenue               4809 non-null   int64  \n",
      " 13  runtime               4807 non-null   float64\n",
      " 14  spoken_languages      4809 non-null   object \n",
      " 15  status                4809 non-null   object \n",
      " 16  tagline               3965 non-null   object \n",
      " 17  title                 4809 non-null   object \n",
      " 18  vote_average          4809 non-null   float64\n",
      " 19  vote_count            4809 non-null   int64  \n",
      " 20  movie_id              4809 non-null   int64  \n",
      " 21  cast                  4809 non-null   object \n",
      " 22  crew                  4809 non-null   object \n",
      "dtypes: float64(3), int64(5), object(15)\n",
      "memory usage: 864.2+ KB\n"
     ]
    }
   ],
   "source": [
    "movies.info()"
   ],
   "metadata": {
    "collapsed": false
   }
  },
  {
   "cell_type": "code",
   "execution_count": 11,
   "outputs": [],
   "source": [
    "# genres\n",
    "# id\n",
    "# keywords\n",
    "# overview\n",
    "# title\n",
    "# cast\n",
    "# crew\n",
    "movies = movies[['movie_id', 'title', 'genres', 'keywords', 'overview', 'cast', 'crew']]"
   ],
   "metadata": {
    "collapsed": false
   }
  },
  {
   "cell_type": "code",
   "execution_count": 12,
   "outputs": [
    {
     "data": {
      "text/plain": "      movie_id                                     title   \n0        19995                                    Avatar  \\\n1          285  Pirates of the Caribbean: At World's End   \n2       206647                                   Spectre   \n3        49026                     The Dark Knight Rises   \n4        49529                               John Carter   \n...        ...                                       ...   \n4804      9367                               El Mariachi   \n4805     72766                                 Newlyweds   \n4806    231617                 Signed, Sealed, Delivered   \n4807    126186                          Shanghai Calling   \n4808     25975                         My Date with Drew   \n\n                                                 genres   \n0     [{\"id\": 28, \"name\": \"Action\"}, {\"id\": 12, \"nam...  \\\n1     [{\"id\": 12, \"name\": \"Adventure\"}, {\"id\": 14, \"...   \n2     [{\"id\": 28, \"name\": \"Action\"}, {\"id\": 12, \"nam...   \n3     [{\"id\": 28, \"name\": \"Action\"}, {\"id\": 80, \"nam...   \n4     [{\"id\": 28, \"name\": \"Action\"}, {\"id\": 12, \"nam...   \n...                                                 ...   \n4804  [{\"id\": 28, \"name\": \"Action\"}, {\"id\": 80, \"nam...   \n4805  [{\"id\": 35, \"name\": \"Comedy\"}, {\"id\": 10749, \"...   \n4806  [{\"id\": 35, \"name\": \"Comedy\"}, {\"id\": 18, \"nam...   \n4807                                                 []   \n4808                [{\"id\": 99, \"name\": \"Documentary\"}]   \n\n                                               keywords   \n0     [{\"id\": 1463, \"name\": \"culture clash\"}, {\"id\":...  \\\n1     [{\"id\": 270, \"name\": \"ocean\"}, {\"id\": 726, \"na...   \n2     [{\"id\": 470, \"name\": \"spy\"}, {\"id\": 818, \"name...   \n3     [{\"id\": 849, \"name\": \"dc comics\"}, {\"id\": 853,...   \n4     [{\"id\": 818, \"name\": \"based on novel\"}, {\"id\":...   \n...                                                 ...   \n4804  [{\"id\": 5616, \"name\": \"united states\\u2013mexi...   \n4805                                                 []   \n4806  [{\"id\": 248, \"name\": \"date\"}, {\"id\": 699, \"nam...   \n4807                                                 []   \n4808  [{\"id\": 1523, \"name\": \"obsession\"}, {\"id\": 224...   \n\n                                               overview   \n0     In the 22nd century, a paraplegic Marine is di...  \\\n1     Captain Barbossa, long believed to be dead, ha...   \n2     A cryptic message from Bond’s past sends him o...   \n3     Following the death of District Attorney Harve...   \n4     John Carter is a war-weary, former military ca...   \n...                                                 ...   \n4804  El Mariachi just wants to play his guitar and ...   \n4805  A newlywed couple's honeymoon is upended by th...   \n4806  \"Signed, Sealed, Delivered\" introduces a dedic...   \n4807  When ambitious New York attorney Sam is sent t...   \n4808  Ever since the second grade when he first saw ...   \n\n                                                   cast   \n0     [{\"cast_id\": 242, \"character\": \"Jake Sully\", \"...  \\\n1     [{\"cast_id\": 4, \"character\": \"Captain Jack Spa...   \n2     [{\"cast_id\": 1, \"character\": \"James Bond\", \"cr...   \n3     [{\"cast_id\": 2, \"character\": \"Bruce Wayne / Ba...   \n4     [{\"cast_id\": 5, \"character\": \"John Carter\", \"c...   \n...                                                 ...   \n4804  [{\"cast_id\": 1, \"character\": \"El Mariachi\", \"c...   \n4805  [{\"cast_id\": 1, \"character\": \"Buzzy\", \"credit_...   \n4806  [{\"cast_id\": 8, \"character\": \"Oliver O\\u2019To...   \n4807  [{\"cast_id\": 3, \"character\": \"Sam\", \"credit_id...   \n4808  [{\"cast_id\": 3, \"character\": \"Herself\", \"credi...   \n\n                                                   crew  \n0     [{\"credit_id\": \"52fe48009251416c750aca23\", \"de...  \n1     [{\"credit_id\": \"52fe4232c3a36847f800b579\", \"de...  \n2     [{\"credit_id\": \"54805967c3a36829b5002c41\", \"de...  \n3     [{\"credit_id\": \"52fe4781c3a36847f81398c3\", \"de...  \n4     [{\"credit_id\": \"52fe479ac3a36847f813eaa3\", \"de...  \n...                                                 ...  \n4804  [{\"credit_id\": \"52fe44eec3a36847f80b280b\", \"de...  \n4805  [{\"credit_id\": \"52fe487dc3a368484e0fb013\", \"de...  \n4806  [{\"credit_id\": \"52fe4df3c3a36847f8275ecf\", \"de...  \n4807  [{\"credit_id\": \"52fe4ad9c3a368484e16a36b\", \"de...  \n4808  [{\"credit_id\": \"58ce021b9251415a390165d9\", \"de...  \n\n[4809 rows x 7 columns]",
      "text/html": "<div>\n<style scoped>\n    .dataframe tbody tr th:only-of-type {\n        vertical-align: middle;\n    }\n\n    .dataframe tbody tr th {\n        vertical-align: top;\n    }\n\n    .dataframe thead th {\n        text-align: right;\n    }\n</style>\n<table border=\"1\" class=\"dataframe\">\n  <thead>\n    <tr style=\"text-align: right;\">\n      <th></th>\n      <th>movie_id</th>\n      <th>title</th>\n      <th>genres</th>\n      <th>keywords</th>\n      <th>overview</th>\n      <th>cast</th>\n      <th>crew</th>\n    </tr>\n  </thead>\n  <tbody>\n    <tr>\n      <th>0</th>\n      <td>19995</td>\n      <td>Avatar</td>\n      <td>[{\"id\": 28, \"name\": \"Action\"}, {\"id\": 12, \"nam...</td>\n      <td>[{\"id\": 1463, \"name\": \"culture clash\"}, {\"id\":...</td>\n      <td>In the 22nd century, a paraplegic Marine is di...</td>\n      <td>[{\"cast_id\": 242, \"character\": \"Jake Sully\", \"...</td>\n      <td>[{\"credit_id\": \"52fe48009251416c750aca23\", \"de...</td>\n    </tr>\n    <tr>\n      <th>1</th>\n      <td>285</td>\n      <td>Pirates of the Caribbean: At World's End</td>\n      <td>[{\"id\": 12, \"name\": \"Adventure\"}, {\"id\": 14, \"...</td>\n      <td>[{\"id\": 270, \"name\": \"ocean\"}, {\"id\": 726, \"na...</td>\n      <td>Captain Barbossa, long believed to be dead, ha...</td>\n      <td>[{\"cast_id\": 4, \"character\": \"Captain Jack Spa...</td>\n      <td>[{\"credit_id\": \"52fe4232c3a36847f800b579\", \"de...</td>\n    </tr>\n    <tr>\n      <th>2</th>\n      <td>206647</td>\n      <td>Spectre</td>\n      <td>[{\"id\": 28, \"name\": \"Action\"}, {\"id\": 12, \"nam...</td>\n      <td>[{\"id\": 470, \"name\": \"spy\"}, {\"id\": 818, \"name...</td>\n      <td>A cryptic message from Bond’s past sends him o...</td>\n      <td>[{\"cast_id\": 1, \"character\": \"James Bond\", \"cr...</td>\n      <td>[{\"credit_id\": \"54805967c3a36829b5002c41\", \"de...</td>\n    </tr>\n    <tr>\n      <th>3</th>\n      <td>49026</td>\n      <td>The Dark Knight Rises</td>\n      <td>[{\"id\": 28, \"name\": \"Action\"}, {\"id\": 80, \"nam...</td>\n      <td>[{\"id\": 849, \"name\": \"dc comics\"}, {\"id\": 853,...</td>\n      <td>Following the death of District Attorney Harve...</td>\n      <td>[{\"cast_id\": 2, \"character\": \"Bruce Wayne / Ba...</td>\n      <td>[{\"credit_id\": \"52fe4781c3a36847f81398c3\", \"de...</td>\n    </tr>\n    <tr>\n      <th>4</th>\n      <td>49529</td>\n      <td>John Carter</td>\n      <td>[{\"id\": 28, \"name\": \"Action\"}, {\"id\": 12, \"nam...</td>\n      <td>[{\"id\": 818, \"name\": \"based on novel\"}, {\"id\":...</td>\n      <td>John Carter is a war-weary, former military ca...</td>\n      <td>[{\"cast_id\": 5, \"character\": \"John Carter\", \"c...</td>\n      <td>[{\"credit_id\": \"52fe479ac3a36847f813eaa3\", \"de...</td>\n    </tr>\n    <tr>\n      <th>...</th>\n      <td>...</td>\n      <td>...</td>\n      <td>...</td>\n      <td>...</td>\n      <td>...</td>\n      <td>...</td>\n      <td>...</td>\n    </tr>\n    <tr>\n      <th>4804</th>\n      <td>9367</td>\n      <td>El Mariachi</td>\n      <td>[{\"id\": 28, \"name\": \"Action\"}, {\"id\": 80, \"nam...</td>\n      <td>[{\"id\": 5616, \"name\": \"united states\\u2013mexi...</td>\n      <td>El Mariachi just wants to play his guitar and ...</td>\n      <td>[{\"cast_id\": 1, \"character\": \"El Mariachi\", \"c...</td>\n      <td>[{\"credit_id\": \"52fe44eec3a36847f80b280b\", \"de...</td>\n    </tr>\n    <tr>\n      <th>4805</th>\n      <td>72766</td>\n      <td>Newlyweds</td>\n      <td>[{\"id\": 35, \"name\": \"Comedy\"}, {\"id\": 10749, \"...</td>\n      <td>[]</td>\n      <td>A newlywed couple's honeymoon is upended by th...</td>\n      <td>[{\"cast_id\": 1, \"character\": \"Buzzy\", \"credit_...</td>\n      <td>[{\"credit_id\": \"52fe487dc3a368484e0fb013\", \"de...</td>\n    </tr>\n    <tr>\n      <th>4806</th>\n      <td>231617</td>\n      <td>Signed, Sealed, Delivered</td>\n      <td>[{\"id\": 35, \"name\": \"Comedy\"}, {\"id\": 18, \"nam...</td>\n      <td>[{\"id\": 248, \"name\": \"date\"}, {\"id\": 699, \"nam...</td>\n      <td>\"Signed, Sealed, Delivered\" introduces a dedic...</td>\n      <td>[{\"cast_id\": 8, \"character\": \"Oliver O\\u2019To...</td>\n      <td>[{\"credit_id\": \"52fe4df3c3a36847f8275ecf\", \"de...</td>\n    </tr>\n    <tr>\n      <th>4807</th>\n      <td>126186</td>\n      <td>Shanghai Calling</td>\n      <td>[]</td>\n      <td>[]</td>\n      <td>When ambitious New York attorney Sam is sent t...</td>\n      <td>[{\"cast_id\": 3, \"character\": \"Sam\", \"credit_id...</td>\n      <td>[{\"credit_id\": \"52fe4ad9c3a368484e16a36b\", \"de...</td>\n    </tr>\n    <tr>\n      <th>4808</th>\n      <td>25975</td>\n      <td>My Date with Drew</td>\n      <td>[{\"id\": 99, \"name\": \"Documentary\"}]</td>\n      <td>[{\"id\": 1523, \"name\": \"obsession\"}, {\"id\": 224...</td>\n      <td>Ever since the second grade when he first saw ...</td>\n      <td>[{\"cast_id\": 3, \"character\": \"Herself\", \"credi...</td>\n      <td>[{\"credit_id\": \"58ce021b9251415a390165d9\", \"de...</td>\n    </tr>\n  </tbody>\n</table>\n<p>4809 rows × 7 columns</p>\n</div>"
     },
     "execution_count": 12,
     "metadata": {},
     "output_type": "execute_result"
    }
   ],
   "source": [
    "movies"
   ],
   "metadata": {
    "collapsed": false
   }
  },
  {
   "cell_type": "code",
   "execution_count": 17,
   "outputs": [
    {
     "data": {
      "text/plain": "movie_id    0\ntitle       0\ngenres      0\nkeywords    0\noverview    3\ncast        0\ncrew        0\ndtype: int64"
     },
     "execution_count": 17,
     "metadata": {},
     "output_type": "execute_result"
    }
   ],
   "source": [
    "# null\n",
    "movies.isnull().sum()\n"
   ],
   "metadata": {
    "collapsed": false
   }
  },
  {
   "cell_type": "code",
   "execution_count": 16,
   "outputs": [
    {
     "data": {
      "text/plain": "0"
     },
     "execution_count": 16,
     "metadata": {},
     "output_type": "execute_result"
    }
   ],
   "source": [
    "# duplicate\n",
    "movies.duplicated().sum()"
   ],
   "metadata": {
    "collapsed": false
   }
  },
  {
   "cell_type": "code",
   "execution_count": 20,
   "outputs": [
    {
     "name": "stderr",
     "output_type": "stream",
     "text": [
      "C:\\Users\\jaydo\\AppData\\Local\\Temp\\ipykernel_31348\\983224553.py:1: SettingWithCopyWarning: \n",
      "A value is trying to be set on a copy of a slice from a DataFrame\n",
      "\n",
      "See the caveats in the documentation: https://pandas.pydata.org/pandas-docs/stable/user_guide/indexing.html#returning-a-view-versus-a-copy\n",
      "  movies.dropna(inplace=True)\n"
     ]
    }
   ],
   "source": [
    "movies.dropna(inplace=True)"
   ],
   "metadata": {
    "collapsed": false
   }
  },
  {
   "cell_type": "code",
   "execution_count": 21,
   "outputs": [
    {
     "data": {
      "text/plain": "movie_id    0\ntitle       0\ngenres      0\nkeywords    0\noverview    0\ncast        0\ncrew        0\ndtype: int64"
     },
     "execution_count": 21,
     "metadata": {},
     "output_type": "execute_result"
    }
   ],
   "source": [
    "movies.isnull().sum()"
   ],
   "metadata": {
    "collapsed": false
   }
  },
  {
   "cell_type": "code",
   "execution_count": 22,
   "outputs": [
    {
     "data": {
      "text/plain": "      movie_id                                     title   \n0        19995                                    Avatar  \\\n1          285  Pirates of the Caribbean: At World's End   \n2       206647                                   Spectre   \n3        49026                     The Dark Knight Rises   \n4        49529                               John Carter   \n...        ...                                       ...   \n4804      9367                               El Mariachi   \n4805     72766                                 Newlyweds   \n4806    231617                 Signed, Sealed, Delivered   \n4807    126186                          Shanghai Calling   \n4808     25975                         My Date with Drew   \n\n                                                 genres   \n0     [{\"id\": 28, \"name\": \"Action\"}, {\"id\": 12, \"nam...  \\\n1     [{\"id\": 12, \"name\": \"Adventure\"}, {\"id\": 14, \"...   \n2     [{\"id\": 28, \"name\": \"Action\"}, {\"id\": 12, \"nam...   \n3     [{\"id\": 28, \"name\": \"Action\"}, {\"id\": 80, \"nam...   \n4     [{\"id\": 28, \"name\": \"Action\"}, {\"id\": 12, \"nam...   \n...                                                 ...   \n4804  [{\"id\": 28, \"name\": \"Action\"}, {\"id\": 80, \"nam...   \n4805  [{\"id\": 35, \"name\": \"Comedy\"}, {\"id\": 10749, \"...   \n4806  [{\"id\": 35, \"name\": \"Comedy\"}, {\"id\": 18, \"nam...   \n4807                                                 []   \n4808                [{\"id\": 99, \"name\": \"Documentary\"}]   \n\n                                               keywords   \n0     [{\"id\": 1463, \"name\": \"culture clash\"}, {\"id\":...  \\\n1     [{\"id\": 270, \"name\": \"ocean\"}, {\"id\": 726, \"na...   \n2     [{\"id\": 470, \"name\": \"spy\"}, {\"id\": 818, \"name...   \n3     [{\"id\": 849, \"name\": \"dc comics\"}, {\"id\": 853,...   \n4     [{\"id\": 818, \"name\": \"based on novel\"}, {\"id\":...   \n...                                                 ...   \n4804  [{\"id\": 5616, \"name\": \"united states\\u2013mexi...   \n4805                                                 []   \n4806  [{\"id\": 248, \"name\": \"date\"}, {\"id\": 699, \"nam...   \n4807                                                 []   \n4808  [{\"id\": 1523, \"name\": \"obsession\"}, {\"id\": 224...   \n\n                                               overview   \n0     In the 22nd century, a paraplegic Marine is di...  \\\n1     Captain Barbossa, long believed to be dead, ha...   \n2     A cryptic message from Bond’s past sends him o...   \n3     Following the death of District Attorney Harve...   \n4     John Carter is a war-weary, former military ca...   \n...                                                 ...   \n4804  El Mariachi just wants to play his guitar and ...   \n4805  A newlywed couple's honeymoon is upended by th...   \n4806  \"Signed, Sealed, Delivered\" introduces a dedic...   \n4807  When ambitious New York attorney Sam is sent t...   \n4808  Ever since the second grade when he first saw ...   \n\n                                                   cast   \n0     [{\"cast_id\": 242, \"character\": \"Jake Sully\", \"...  \\\n1     [{\"cast_id\": 4, \"character\": \"Captain Jack Spa...   \n2     [{\"cast_id\": 1, \"character\": \"James Bond\", \"cr...   \n3     [{\"cast_id\": 2, \"character\": \"Bruce Wayne / Ba...   \n4     [{\"cast_id\": 5, \"character\": \"John Carter\", \"c...   \n...                                                 ...   \n4804  [{\"cast_id\": 1, \"character\": \"El Mariachi\", \"c...   \n4805  [{\"cast_id\": 1, \"character\": \"Buzzy\", \"credit_...   \n4806  [{\"cast_id\": 8, \"character\": \"Oliver O\\u2019To...   \n4807  [{\"cast_id\": 3, \"character\": \"Sam\", \"credit_id...   \n4808  [{\"cast_id\": 3, \"character\": \"Herself\", \"credi...   \n\n                                                   crew  \n0     [{\"credit_id\": \"52fe48009251416c750aca23\", \"de...  \n1     [{\"credit_id\": \"52fe4232c3a36847f800b579\", \"de...  \n2     [{\"credit_id\": \"54805967c3a36829b5002c41\", \"de...  \n3     [{\"credit_id\": \"52fe4781c3a36847f81398c3\", \"de...  \n4     [{\"credit_id\": \"52fe479ac3a36847f813eaa3\", \"de...  \n...                                                 ...  \n4804  [{\"credit_id\": \"52fe44eec3a36847f80b280b\", \"de...  \n4805  [{\"credit_id\": \"52fe487dc3a368484e0fb013\", \"de...  \n4806  [{\"credit_id\": \"52fe4df3c3a36847f8275ecf\", \"de...  \n4807  [{\"credit_id\": \"52fe4ad9c3a368484e16a36b\", \"de...  \n4808  [{\"credit_id\": \"58ce021b9251415a390165d9\", \"de...  \n\n[4806 rows x 7 columns]",
      "text/html": "<div>\n<style scoped>\n    .dataframe tbody tr th:only-of-type {\n        vertical-align: middle;\n    }\n\n    .dataframe tbody tr th {\n        vertical-align: top;\n    }\n\n    .dataframe thead th {\n        text-align: right;\n    }\n</style>\n<table border=\"1\" class=\"dataframe\">\n  <thead>\n    <tr style=\"text-align: right;\">\n      <th></th>\n      <th>movie_id</th>\n      <th>title</th>\n      <th>genres</th>\n      <th>keywords</th>\n      <th>overview</th>\n      <th>cast</th>\n      <th>crew</th>\n    </tr>\n  </thead>\n  <tbody>\n    <tr>\n      <th>0</th>\n      <td>19995</td>\n      <td>Avatar</td>\n      <td>[{\"id\": 28, \"name\": \"Action\"}, {\"id\": 12, \"nam...</td>\n      <td>[{\"id\": 1463, \"name\": \"culture clash\"}, {\"id\":...</td>\n      <td>In the 22nd century, a paraplegic Marine is di...</td>\n      <td>[{\"cast_id\": 242, \"character\": \"Jake Sully\", \"...</td>\n      <td>[{\"credit_id\": \"52fe48009251416c750aca23\", \"de...</td>\n    </tr>\n    <tr>\n      <th>1</th>\n      <td>285</td>\n      <td>Pirates of the Caribbean: At World's End</td>\n      <td>[{\"id\": 12, \"name\": \"Adventure\"}, {\"id\": 14, \"...</td>\n      <td>[{\"id\": 270, \"name\": \"ocean\"}, {\"id\": 726, \"na...</td>\n      <td>Captain Barbossa, long believed to be dead, ha...</td>\n      <td>[{\"cast_id\": 4, \"character\": \"Captain Jack Spa...</td>\n      <td>[{\"credit_id\": \"52fe4232c3a36847f800b579\", \"de...</td>\n    </tr>\n    <tr>\n      <th>2</th>\n      <td>206647</td>\n      <td>Spectre</td>\n      <td>[{\"id\": 28, \"name\": \"Action\"}, {\"id\": 12, \"nam...</td>\n      <td>[{\"id\": 470, \"name\": \"spy\"}, {\"id\": 818, \"name...</td>\n      <td>A cryptic message from Bond’s past sends him o...</td>\n      <td>[{\"cast_id\": 1, \"character\": \"James Bond\", \"cr...</td>\n      <td>[{\"credit_id\": \"54805967c3a36829b5002c41\", \"de...</td>\n    </tr>\n    <tr>\n      <th>3</th>\n      <td>49026</td>\n      <td>The Dark Knight Rises</td>\n      <td>[{\"id\": 28, \"name\": \"Action\"}, {\"id\": 80, \"nam...</td>\n      <td>[{\"id\": 849, \"name\": \"dc comics\"}, {\"id\": 853,...</td>\n      <td>Following the death of District Attorney Harve...</td>\n      <td>[{\"cast_id\": 2, \"character\": \"Bruce Wayne / Ba...</td>\n      <td>[{\"credit_id\": \"52fe4781c3a36847f81398c3\", \"de...</td>\n    </tr>\n    <tr>\n      <th>4</th>\n      <td>49529</td>\n      <td>John Carter</td>\n      <td>[{\"id\": 28, \"name\": \"Action\"}, {\"id\": 12, \"nam...</td>\n      <td>[{\"id\": 818, \"name\": \"based on novel\"}, {\"id\":...</td>\n      <td>John Carter is a war-weary, former military ca...</td>\n      <td>[{\"cast_id\": 5, \"character\": \"John Carter\", \"c...</td>\n      <td>[{\"credit_id\": \"52fe479ac3a36847f813eaa3\", \"de...</td>\n    </tr>\n    <tr>\n      <th>...</th>\n      <td>...</td>\n      <td>...</td>\n      <td>...</td>\n      <td>...</td>\n      <td>...</td>\n      <td>...</td>\n      <td>...</td>\n    </tr>\n    <tr>\n      <th>4804</th>\n      <td>9367</td>\n      <td>El Mariachi</td>\n      <td>[{\"id\": 28, \"name\": \"Action\"}, {\"id\": 80, \"nam...</td>\n      <td>[{\"id\": 5616, \"name\": \"united states\\u2013mexi...</td>\n      <td>El Mariachi just wants to play his guitar and ...</td>\n      <td>[{\"cast_id\": 1, \"character\": \"El Mariachi\", \"c...</td>\n      <td>[{\"credit_id\": \"52fe44eec3a36847f80b280b\", \"de...</td>\n    </tr>\n    <tr>\n      <th>4805</th>\n      <td>72766</td>\n      <td>Newlyweds</td>\n      <td>[{\"id\": 35, \"name\": \"Comedy\"}, {\"id\": 10749, \"...</td>\n      <td>[]</td>\n      <td>A newlywed couple's honeymoon is upended by th...</td>\n      <td>[{\"cast_id\": 1, \"character\": \"Buzzy\", \"credit_...</td>\n      <td>[{\"credit_id\": \"52fe487dc3a368484e0fb013\", \"de...</td>\n    </tr>\n    <tr>\n      <th>4806</th>\n      <td>231617</td>\n      <td>Signed, Sealed, Delivered</td>\n      <td>[{\"id\": 35, \"name\": \"Comedy\"}, {\"id\": 18, \"nam...</td>\n      <td>[{\"id\": 248, \"name\": \"date\"}, {\"id\": 699, \"nam...</td>\n      <td>\"Signed, Sealed, Delivered\" introduces a dedic...</td>\n      <td>[{\"cast_id\": 8, \"character\": \"Oliver O\\u2019To...</td>\n      <td>[{\"credit_id\": \"52fe4df3c3a36847f8275ecf\", \"de...</td>\n    </tr>\n    <tr>\n      <th>4807</th>\n      <td>126186</td>\n      <td>Shanghai Calling</td>\n      <td>[]</td>\n      <td>[]</td>\n      <td>When ambitious New York attorney Sam is sent t...</td>\n      <td>[{\"cast_id\": 3, \"character\": \"Sam\", \"credit_id...</td>\n      <td>[{\"credit_id\": \"52fe4ad9c3a368484e16a36b\", \"de...</td>\n    </tr>\n    <tr>\n      <th>4808</th>\n      <td>25975</td>\n      <td>My Date with Drew</td>\n      <td>[{\"id\": 99, \"name\": \"Documentary\"}]</td>\n      <td>[{\"id\": 1523, \"name\": \"obsession\"}, {\"id\": 224...</td>\n      <td>Ever since the second grade when he first saw ...</td>\n      <td>[{\"cast_id\": 3, \"character\": \"Herself\", \"credi...</td>\n      <td>[{\"credit_id\": \"58ce021b9251415a390165d9\", \"de...</td>\n    </tr>\n  </tbody>\n</table>\n<p>4806 rows × 7 columns</p>\n</div>"
     },
     "execution_count": 22,
     "metadata": {},
     "output_type": "execute_result"
    }
   ],
   "source": [
    "movies"
   ],
   "metadata": {
    "collapsed": false
   }
  },
  {
   "cell_type": "code",
   "execution_count": 36,
   "outputs": [
    {
     "data": {
      "text/plain": "'[{\"id\": 28, \"name\": \"Action\"}, {\"id\": 12, \"name\": \"Adventure\"}, {\"id\": 14, \"name\": \"Fantasy\"}, {\"id\": 878, \"name\": \"Science Fiction\"}]'"
     },
     "execution_count": 36,
     "metadata": {},
     "output_type": "execute_result"
    }
   ],
   "source": [
    "movies.iloc[0].genres"
   ],
   "metadata": {
    "collapsed": false
   }
  },
  {
   "cell_type": "code",
   "execution_count": 32,
   "outputs": [],
   "source": [
    "import ast\n",
    "def getList(obj):\n",
    "    L = []\n",
    "    for i in ast.literal_eval(obj):\n",
    "        L.append(i['name'])\n",
    "    return L"
   ],
   "metadata": {
    "collapsed": false
   }
  },
  {
   "cell_type": "code",
   "execution_count": 37,
   "outputs": [
    {
     "data": {
      "text/plain": "['Action', 'Adventure', 'Fantasy', 'Science Fiction']"
     },
     "execution_count": 37,
     "metadata": {},
     "output_type": "execute_result"
    }
   ],
   "source": [
    "getList('[{\"id\": 28, \"name\": \"Action\"}, {\"id\": 12, \"name\": \"Adventure\"}, {\"id\": 14, \"name\": \"Fantasy\"}, {\"id\": 878, \"name\": \"Science Fiction\"}]')"
   ],
   "metadata": {
    "collapsed": false
   }
  },
  {
   "cell_type": "code",
   "execution_count": 39,
   "outputs": [
    {
     "name": "stderr",
     "output_type": "stream",
     "text": [
      "C:\\Users\\jaydo\\AppData\\Local\\Temp\\ipykernel_31348\\297954847.py:1: SettingWithCopyWarning: \n",
      "A value is trying to be set on a copy of a slice from a DataFrame.\n",
      "Try using .loc[row_indexer,col_indexer] = value instead\n",
      "\n",
      "See the caveats in the documentation: https://pandas.pydata.org/pandas-docs/stable/user_guide/indexing.html#returning-a-view-versus-a-copy\n",
      "  movies['genres'] = movies['genres'].apply(getList)\n"
     ]
    }
   ],
   "source": [
    "movies['genres'] = movies['genres'].apply(getList)"
   ],
   "metadata": {
    "collapsed": false
   }
  },
  {
   "cell_type": "code",
   "execution_count": 42,
   "outputs": [
    {
     "name": "stderr",
     "output_type": "stream",
     "text": [
      "C:\\Users\\jaydo\\AppData\\Local\\Temp\\ipykernel_31348\\1094593513.py:1: SettingWithCopyWarning: \n",
      "A value is trying to be set on a copy of a slice from a DataFrame.\n",
      "Try using .loc[row_indexer,col_indexer] = value instead\n",
      "\n",
      "See the caveats in the documentation: https://pandas.pydata.org/pandas-docs/stable/user_guide/indexing.html#returning-a-view-versus-a-copy\n",
      "  movies['keywords'] = movies['keywords'].apply(getList)\n"
     ]
    }
   ],
   "source": [
    "movies['keywords'] = movies['keywords'].apply(getList)"
   ],
   "metadata": {
    "collapsed": false
   }
  },
  {
   "cell_type": "code",
   "execution_count": 53,
   "outputs": [],
   "source": [
    "def getCast(obj):\n",
    "    L = []\n",
    "    count = 0\n",
    "    for i in ast.literal_eval(obj):\n",
    "        if(count != 5):\n",
    "            L.append(i['name'])\n",
    "            count+=1\n",
    "        else:\n",
    "            break\n",
    "    return L"
   ],
   "metadata": {
    "collapsed": false
   }
  },
  {
   "cell_type": "code",
   "execution_count": 55,
   "outputs": [
    {
     "name": "stderr",
     "output_type": "stream",
     "text": [
      "C:\\Users\\jaydo\\AppData\\Local\\Temp\\ipykernel_31348\\2979979311.py:1: SettingWithCopyWarning: \n",
      "A value is trying to be set on a copy of a slice from a DataFrame.\n",
      "Try using .loc[row_indexer,col_indexer] = value instead\n",
      "\n",
      "See the caveats in the documentation: https://pandas.pydata.org/pandas-docs/stable/user_guide/indexing.html#returning-a-view-versus-a-copy\n",
      "  movies['cast'] = movies['cast'].apply(getCast)\n"
     ]
    }
   ],
   "source": [
    "movies['cast'] = movies['cast'].apply(getCast)"
   ],
   "metadata": {
    "collapsed": false
   }
  },
  {
   "cell_type": "code",
   "execution_count": 58,
   "outputs": [],
   "source": [
    "def getDirector(obj):\n",
    "    L = []\n",
    "    for i in ast.literal_eval(obj):\n",
    "        if i['job'] == 'Director':\n",
    "            L.append(i['name'])\n",
    "            break\n",
    "    return L"
   ],
   "metadata": {
    "collapsed": false
   }
  },
  {
   "cell_type": "code",
   "execution_count": 60,
   "outputs": [
    {
     "name": "stderr",
     "output_type": "stream",
     "text": [
      "C:\\Users\\jaydo\\AppData\\Local\\Temp\\ipykernel_31348\\246247297.py:1: SettingWithCopyWarning: \n",
      "A value is trying to be set on a copy of a slice from a DataFrame.\n",
      "Try using .loc[row_indexer,col_indexer] = value instead\n",
      "\n",
      "See the caveats in the documentation: https://pandas.pydata.org/pandas-docs/stable/user_guide/indexing.html#returning-a-view-versus-a-copy\n",
      "  movies['crew'] = movies['crew'].apply(getDirector)\n"
     ]
    }
   ],
   "source": [
    "movies['crew'] = movies['crew'].apply(getDirector)"
   ],
   "metadata": {
    "collapsed": false
   }
  },
  {
   "cell_type": "code",
   "execution_count": 63,
   "outputs": [
    {
     "name": "stderr",
     "output_type": "stream",
     "text": [
      "C:\\Users\\jaydo\\AppData\\Local\\Temp\\ipykernel_31348\\2396809933.py:1: SettingWithCopyWarning: \n",
      "A value is trying to be set on a copy of a slice from a DataFrame.\n",
      "Try using .loc[row_indexer,col_indexer] = value instead\n",
      "\n",
      "See the caveats in the documentation: https://pandas.pydata.org/pandas-docs/stable/user_guide/indexing.html#returning-a-view-versus-a-copy\n",
      "  movies['overview'] = movies['overview'].apply(lambda x : x.split())\n"
     ]
    }
   ],
   "source": [
    "movies['overview'] = movies['overview'].apply(lambda x : x.split())"
   ],
   "metadata": {
    "collapsed": false
   }
  },
  {
   "cell_type": "code",
   "execution_count": 67,
   "outputs": [
    {
     "data": {
      "text/plain": "   movie_id                                     title   \n0     19995                                    Avatar  \\\n1       285  Pirates of the Caribbean: At World's End   \n2    206647                                   Spectre   \n3     49026                     The Dark Knight Rises   \n4     49529                               John Carter   \n\n                                          genres   \n0  [Action, Adventure, Fantasy, Science Fiction]  \\\n1                   [Adventure, Fantasy, Action]   \n2                     [Action, Adventure, Crime]   \n3               [Action, Crime, Drama, Thriller]   \n4           [Action, Adventure, Science Fiction]   \n\n                                            keywords   \n0  [culture clash, future, space war, space colon...  \\\n1  [ocean, drug abuse, exotic island, east india ...   \n2  [spy, based on novel, secret agent, sequel, mi...   \n3  [dc comics, crime fighter, terrorist, secret i...   \n4  [based on novel, mars, medallion, space travel...   \n\n                                            overview   \n0  [In, the, 22nd, century,, a, paraplegic, Marin...  \\\n1  [Captain, Barbossa,, long, believed, to, be, d...   \n2  [A, cryptic, message, from, Bond’s, past, send...   \n3  [Following, the, death, of, District, Attorney...   \n4  [John, Carter, is, a, war-weary,, former, mili...   \n\n                                                cast                 crew  \n0  [Sam Worthington, Zoe Saldana, Sigourney Weave...      [James Cameron]  \n1  [Johnny Depp, Orlando Bloom, Keira Knightley, ...     [Gore Verbinski]  \n2  [Daniel Craig, Christoph Waltz, Léa Seydoux, R...         [Sam Mendes]  \n3  [Christian Bale, Michael Caine, Gary Oldman, A...  [Christopher Nolan]  \n4  [Taylor Kitsch, Lynn Collins, Samantha Morton,...     [Andrew Stanton]  ",
      "text/html": "<div>\n<style scoped>\n    .dataframe tbody tr th:only-of-type {\n        vertical-align: middle;\n    }\n\n    .dataframe tbody tr th {\n        vertical-align: top;\n    }\n\n    .dataframe thead th {\n        text-align: right;\n    }\n</style>\n<table border=\"1\" class=\"dataframe\">\n  <thead>\n    <tr style=\"text-align: right;\">\n      <th></th>\n      <th>movie_id</th>\n      <th>title</th>\n      <th>genres</th>\n      <th>keywords</th>\n      <th>overview</th>\n      <th>cast</th>\n      <th>crew</th>\n    </tr>\n  </thead>\n  <tbody>\n    <tr>\n      <th>0</th>\n      <td>19995</td>\n      <td>Avatar</td>\n      <td>[Action, Adventure, Fantasy, Science Fiction]</td>\n      <td>[culture clash, future, space war, space colon...</td>\n      <td>[In, the, 22nd, century,, a, paraplegic, Marin...</td>\n      <td>[Sam Worthington, Zoe Saldana, Sigourney Weave...</td>\n      <td>[James Cameron]</td>\n    </tr>\n    <tr>\n      <th>1</th>\n      <td>285</td>\n      <td>Pirates of the Caribbean: At World's End</td>\n      <td>[Adventure, Fantasy, Action]</td>\n      <td>[ocean, drug abuse, exotic island, east india ...</td>\n      <td>[Captain, Barbossa,, long, believed, to, be, d...</td>\n      <td>[Johnny Depp, Orlando Bloom, Keira Knightley, ...</td>\n      <td>[Gore Verbinski]</td>\n    </tr>\n    <tr>\n      <th>2</th>\n      <td>206647</td>\n      <td>Spectre</td>\n      <td>[Action, Adventure, Crime]</td>\n      <td>[spy, based on novel, secret agent, sequel, mi...</td>\n      <td>[A, cryptic, message, from, Bond’s, past, send...</td>\n      <td>[Daniel Craig, Christoph Waltz, Léa Seydoux, R...</td>\n      <td>[Sam Mendes]</td>\n    </tr>\n    <tr>\n      <th>3</th>\n      <td>49026</td>\n      <td>The Dark Knight Rises</td>\n      <td>[Action, Crime, Drama, Thriller]</td>\n      <td>[dc comics, crime fighter, terrorist, secret i...</td>\n      <td>[Following, the, death, of, District, Attorney...</td>\n      <td>[Christian Bale, Michael Caine, Gary Oldman, A...</td>\n      <td>[Christopher Nolan]</td>\n    </tr>\n    <tr>\n      <th>4</th>\n      <td>49529</td>\n      <td>John Carter</td>\n      <td>[Action, Adventure, Science Fiction]</td>\n      <td>[based on novel, mars, medallion, space travel...</td>\n      <td>[John, Carter, is, a, war-weary,, former, mili...</td>\n      <td>[Taylor Kitsch, Lynn Collins, Samantha Morton,...</td>\n      <td>[Andrew Stanton]</td>\n    </tr>\n  </tbody>\n</table>\n</div>"
     },
     "execution_count": 67,
     "metadata": {},
     "output_type": "execute_result"
    }
   ],
   "source": [
    "movies.head()"
   ],
   "metadata": {
    "collapsed": false
   }
  },
  {
   "cell_type": "code",
   "execution_count": 72,
   "outputs": [
    {
     "name": "stderr",
     "output_type": "stream",
     "text": [
      "C:\\Users\\jaydo\\AppData\\Local\\Temp\\ipykernel_31348\\1789388449.py:1: SettingWithCopyWarning: \n",
      "A value is trying to be set on a copy of a slice from a DataFrame.\n",
      "Try using .loc[row_indexer,col_indexer] = value instead\n",
      "\n",
      "See the caveats in the documentation: https://pandas.pydata.org/pandas-docs/stable/user_guide/indexing.html#returning-a-view-versus-a-copy\n",
      "  movies['genres'] = movies['genres'].apply(lambda x: [i.replace(\" \",\"\") for i in x])\n",
      "C:\\Users\\jaydo\\AppData\\Local\\Temp\\ipykernel_31348\\1789388449.py:2: SettingWithCopyWarning: \n",
      "A value is trying to be set on a copy of a slice from a DataFrame.\n",
      "Try using .loc[row_indexer,col_indexer] = value instead\n",
      "\n",
      "See the caveats in the documentation: https://pandas.pydata.org/pandas-docs/stable/user_guide/indexing.html#returning-a-view-versus-a-copy\n",
      "  movies['keywords'] = movies['keywords'].apply(lambda x: [i.replace(\" \",\"\") for i in x])\n",
      "C:\\Users\\jaydo\\AppData\\Local\\Temp\\ipykernel_31348\\1789388449.py:3: SettingWithCopyWarning: \n",
      "A value is trying to be set on a copy of a slice from a DataFrame.\n",
      "Try using .loc[row_indexer,col_indexer] = value instead\n",
      "\n",
      "See the caveats in the documentation: https://pandas.pydata.org/pandas-docs/stable/user_guide/indexing.html#returning-a-view-versus-a-copy\n",
      "  movies['overview'] = movies['overview'].apply(lambda x: [i.replace(\" \",\"\") for i in x])\n",
      "C:\\Users\\jaydo\\AppData\\Local\\Temp\\ipykernel_31348\\1789388449.py:4: SettingWithCopyWarning: \n",
      "A value is trying to be set on a copy of a slice from a DataFrame.\n",
      "Try using .loc[row_indexer,col_indexer] = value instead\n",
      "\n",
      "See the caveats in the documentation: https://pandas.pydata.org/pandas-docs/stable/user_guide/indexing.html#returning-a-view-versus-a-copy\n",
      "  movies['cast'] = movies['cast'].apply(lambda x: [i.replace(\" \",\"\") for i in x])\n",
      "C:\\Users\\jaydo\\AppData\\Local\\Temp\\ipykernel_31348\\1789388449.py:5: SettingWithCopyWarning: \n",
      "A value is trying to be set on a copy of a slice from a DataFrame.\n",
      "Try using .loc[row_indexer,col_indexer] = value instead\n",
      "\n",
      "See the caveats in the documentation: https://pandas.pydata.org/pandas-docs/stable/user_guide/indexing.html#returning-a-view-versus-a-copy\n",
      "  movies['crew'] = movies['crew'].apply(lambda x: [i.replace(\" \",\"\") for i in x])\n"
     ]
    }
   ],
   "source": [
    "\n",
    "movies['genres'] = movies['genres'].apply(lambda x: [i.replace(\" \",\"\") for i in x])\n",
    "movies['keywords'] = movies['keywords'].apply(lambda x: [i.replace(\" \",\"\") for i in x])\n",
    "movies['overview'] = movies['overview'].apply(lambda x: [i.replace(\" \",\"\") for i in x])\n",
    "movies['cast'] = movies['cast'].apply(lambda x: [i.replace(\" \",\"\") for i in x])\n",
    "movies['crew'] = movies['crew'].apply(lambda x: [i.replace(\" \",\"\") for i in x])"
   ],
   "metadata": {
    "collapsed": false
   }
  },
  {
   "cell_type": "code",
   "execution_count": 87,
   "outputs": [
    {
     "name": "stderr",
     "output_type": "stream",
     "text": [
      "C:\\Users\\jaydo\\AppData\\Local\\Temp\\ipykernel_31348\\400106447.py:1: SettingWithCopyWarning: \n",
      "A value is trying to be set on a copy of a slice from a DataFrame.\n",
      "Try using .loc[row_indexer,col_indexer] = value instead\n",
      "\n",
      "See the caveats in the documentation: https://pandas.pydata.org/pandas-docs/stable/user_guide/indexing.html#returning-a-view-versus-a-copy\n",
      "  movies['tags'] = movies['genres']+movies['keywords']+movies['overview']+movies['cast']+movies['crew']\n"
     ]
    }
   ],
   "source": [
    "movies['tags'] = movies['genres']+movies['keywords']+movies['overview']+movies['cast']+movies['crew']"
   ],
   "metadata": {
    "collapsed": false
   }
  },
  {
   "cell_type": "code",
   "execution_count": 88,
   "outputs": [],
   "source": [
    "new_df = movies[['movie_id','title','tags']]"
   ],
   "metadata": {
    "collapsed": false
   }
  },
  {
   "cell_type": "code",
   "execution_count": 89,
   "outputs": [
    {
     "name": "stderr",
     "output_type": "stream",
     "text": [
      "C:\\Users\\jaydo\\AppData\\Local\\Temp\\ipykernel_31348\\1488356237.py:1: SettingWithCopyWarning: \n",
      "A value is trying to be set on a copy of a slice from a DataFrame.\n",
      "Try using .loc[row_indexer,col_indexer] = value instead\n",
      "\n",
      "See the caveats in the documentation: https://pandas.pydata.org/pandas-docs/stable/user_guide/indexing.html#returning-a-view-versus-a-copy\n",
      "  new_df['tags'] = new_df['tags'].apply(lambda x : \" \".join(x))\n"
     ]
    }
   ],
   "source": [
    "new_df['tags'] = new_df['tags'].apply(lambda x : \" \".join(x))\n",
    "# new_df['tags'] = new_df['tags'].apply(lambda x : x.lower())"
   ],
   "metadata": {
    "collapsed": false
   }
  },
  {
   "cell_type": "code",
   "execution_count": 91,
   "outputs": [
    {
     "name": "stderr",
     "output_type": "stream",
     "text": [
      "C:\\Users\\jaydo\\AppData\\Local\\Temp\\ipykernel_31348\\3998171751.py:1: SettingWithCopyWarning: \n",
      "A value is trying to be set on a copy of a slice from a DataFrame.\n",
      "Try using .loc[row_indexer,col_indexer] = value instead\n",
      "\n",
      "See the caveats in the documentation: https://pandas.pydata.org/pandas-docs/stable/user_guide/indexing.html#returning-a-view-versus-a-copy\n",
      "  new_df['tags'] = new_df['tags'].apply(lambda x : x.lower())\n"
     ]
    }
   ],
   "source": [
    "new_df['tags'] = new_df['tags'].apply(lambda x : x.lower())"
   ],
   "metadata": {
    "collapsed": false
   }
  },
  {
   "cell_type": "code",
   "execution_count": 92,
   "outputs": [
    {
     "data": {
      "text/plain": "      movie_id                                     title   \n0        19995                                    Avatar  \\\n1          285  Pirates of the Caribbean: At World's End   \n2       206647                                   Spectre   \n3        49026                     The Dark Knight Rises   \n4        49529                               John Carter   \n...        ...                                       ...   \n4804      9367                               El Mariachi   \n4805     72766                                 Newlyweds   \n4806    231617                 Signed, Sealed, Delivered   \n4807    126186                          Shanghai Calling   \n4808     25975                         My Date with Drew   \n\n                                                   tags  \n0     action adventure fantasy sciencefiction cultur...  \n1     adventure fantasy action ocean drugabuse exoti...  \n2     action adventure crime spy basedonnovel secret...  \n3     action crime drama thriller dccomics crimefigh...  \n4     action adventure sciencefiction basedonnovel m...  \n...                                                 ...  \n4804  action crime thriller unitedstates–mexicobarri...  \n4805  comedy romance a newlywed couple's honeymoon i...  \n4806  comedy drama romance tvmovie date loveatfirsts...  \n4807  when ambitious new york attorney sam is sent t...  \n4808  documentary obsession camcorder crush dreamgir...  \n\n[4806 rows x 3 columns]",
      "text/html": "<div>\n<style scoped>\n    .dataframe tbody tr th:only-of-type {\n        vertical-align: middle;\n    }\n\n    .dataframe tbody tr th {\n        vertical-align: top;\n    }\n\n    .dataframe thead th {\n        text-align: right;\n    }\n</style>\n<table border=\"1\" class=\"dataframe\">\n  <thead>\n    <tr style=\"text-align: right;\">\n      <th></th>\n      <th>movie_id</th>\n      <th>title</th>\n      <th>tags</th>\n    </tr>\n  </thead>\n  <tbody>\n    <tr>\n      <th>0</th>\n      <td>19995</td>\n      <td>Avatar</td>\n      <td>action adventure fantasy sciencefiction cultur...</td>\n    </tr>\n    <tr>\n      <th>1</th>\n      <td>285</td>\n      <td>Pirates of the Caribbean: At World's End</td>\n      <td>adventure fantasy action ocean drugabuse exoti...</td>\n    </tr>\n    <tr>\n      <th>2</th>\n      <td>206647</td>\n      <td>Spectre</td>\n      <td>action adventure crime spy basedonnovel secret...</td>\n    </tr>\n    <tr>\n      <th>3</th>\n      <td>49026</td>\n      <td>The Dark Knight Rises</td>\n      <td>action crime drama thriller dccomics crimefigh...</td>\n    </tr>\n    <tr>\n      <th>4</th>\n      <td>49529</td>\n      <td>John Carter</td>\n      <td>action adventure sciencefiction basedonnovel m...</td>\n    </tr>\n    <tr>\n      <th>...</th>\n      <td>...</td>\n      <td>...</td>\n      <td>...</td>\n    </tr>\n    <tr>\n      <th>4804</th>\n      <td>9367</td>\n      <td>El Mariachi</td>\n      <td>action crime thriller unitedstates–mexicobarri...</td>\n    </tr>\n    <tr>\n      <th>4805</th>\n      <td>72766</td>\n      <td>Newlyweds</td>\n      <td>comedy romance a newlywed couple's honeymoon i...</td>\n    </tr>\n    <tr>\n      <th>4806</th>\n      <td>231617</td>\n      <td>Signed, Sealed, Delivered</td>\n      <td>comedy drama romance tvmovie date loveatfirsts...</td>\n    </tr>\n    <tr>\n      <th>4807</th>\n      <td>126186</td>\n      <td>Shanghai Calling</td>\n      <td>when ambitious new york attorney sam is sent t...</td>\n    </tr>\n    <tr>\n      <th>4808</th>\n      <td>25975</td>\n      <td>My Date with Drew</td>\n      <td>documentary obsession camcorder crush dreamgir...</td>\n    </tr>\n  </tbody>\n</table>\n<p>4806 rows × 3 columns</p>\n</div>"
     },
     "execution_count": 92,
     "metadata": {},
     "output_type": "execute_result"
    }
   ],
   "source": [
    "new_df"
   ],
   "metadata": {
    "collapsed": false
   }
  },
  {
   "cell_type": "code",
   "execution_count": 93,
   "outputs": [],
   "source": [
    "from sklearn.feature_extraction.text import CountVectorizer\n",
    "cv = CountVectorizer(max_features=5000, stop_words='english')"
   ],
   "metadata": {
    "collapsed": false
   }
  },
  {
   "cell_type": "code",
   "execution_count": 95,
   "outputs": [],
   "source": [
    "vectors = cv.fit_transform(new_df['tags']).toarray()"
   ],
   "metadata": {
    "collapsed": false
   }
  },
  {
   "cell_type": "code",
   "execution_count": 98,
   "outputs": [
    {
     "data": {
      "text/plain": "array(['000', '007', '10', ..., 'zone', 'zoo', 'zooeydeschanel'],\n      dtype=object)"
     },
     "execution_count": 98,
     "metadata": {},
     "output_type": "execute_result"
    }
   ],
   "source": [
    "cv.get_feature_names_out()"
   ],
   "metadata": {
    "collapsed": false
   }
  },
  {
   "cell_type": "code",
   "execution_count": 100,
   "outputs": [],
   "source": [
    "from nltk.stem.porter import PorterStemmer\n",
    "ps = PorterStemmer()"
   ],
   "metadata": {
    "collapsed": false
   }
  },
  {
   "cell_type": "code",
   "execution_count": 101,
   "outputs": [],
   "source": [
    "def stem(text):\n",
    "    y = []\n",
    "    for i in text.split():\n",
    "        y.append(ps.stem(i))\n",
    "    return \" \".join(y)\n"
   ],
   "metadata": {
    "collapsed": false
   }
  },
  {
   "cell_type": "code",
   "execution_count": 103,
   "outputs": [
    {
     "name": "stderr",
     "output_type": "stream",
     "text": [
      "C:\\Users\\jaydo\\AppData\\Local\\Temp\\ipykernel_31348\\1132361295.py:1: SettingWithCopyWarning: \n",
      "A value is trying to be set on a copy of a slice from a DataFrame.\n",
      "Try using .loc[row_indexer,col_indexer] = value instead\n",
      "\n",
      "See the caveats in the documentation: https://pandas.pydata.org/pandas-docs/stable/user_guide/indexing.html#returning-a-view-versus-a-copy\n",
      "  new_df['tags'] = new_df['tags'].apply(stem)\n"
     ]
    }
   ],
   "source": [
    "new_df['tags'] = new_df['tags'].apply(stem)"
   ],
   "metadata": {
    "collapsed": false
   }
  },
  {
   "cell_type": "code",
   "execution_count": 104,
   "outputs": [],
   "source": [
    "vectors = cv.fit_transform(new_df['tags']).toarray()"
   ],
   "metadata": {
    "collapsed": false
   }
  },
  {
   "cell_type": "code",
   "execution_count": 111,
   "outputs": [
    {
     "data": {
      "text/plain": "array([0, 0, 0, ..., 0, 0, 0], dtype=int64)"
     },
     "execution_count": 111,
     "metadata": {},
     "output_type": "execute_result"
    }
   ],
   "source": [
    "vectors[0]"
   ],
   "metadata": {
    "collapsed": false
   }
  },
  {
   "cell_type": "code",
   "execution_count": 112,
   "outputs": [],
   "source": [
    "from sklearn.feature_extraction.text import CountVectorizer\n",
    "cv = CountVectorizer(max_features=5000, stop_words='english')\n",
    "vectors = cv.fit_transform(new_df['tags']).toarray()"
   ],
   "metadata": {
    "collapsed": false
   }
  },
  {
   "cell_type": "code",
   "execution_count": 113,
   "outputs": [
    {
     "data": {
      "text/plain": "array(['000', '007', '10', ..., 'zone', 'zoo', 'zooeydeschanel'],\n      dtype=object)"
     },
     "execution_count": 113,
     "metadata": {},
     "output_type": "execute_result"
    }
   ],
   "source": [
    "cv.get_feature_names_out()"
   ],
   "metadata": {
    "collapsed": false
   }
  },
  {
   "cell_type": "code",
   "execution_count": 114,
   "outputs": [],
   "source": [
    "from sklearn.metrics.pairwise import cosine_similarity"
   ],
   "metadata": {
    "collapsed": false
   }
  },
  {
   "cell_type": "code",
   "execution_count": 118,
   "outputs": [],
   "source": [
    "similarity = cosine_similarity(vectors)"
   ],
   "metadata": {
    "collapsed": false
   }
  },
  {
   "cell_type": "code",
   "execution_count": 127,
   "outputs": [
    {
     "data": {
      "text/plain": "[(1216, 0.28306925853614895),\n (507, 0.2545139051903111),\n (3730, 0.2506402059138015),\n (582, 0.24194822861802104),\n (539, 0.24019223070763068)]"
     },
     "execution_count": 127,
     "metadata": {},
     "output_type": "execute_result"
    }
   ],
   "source": [
    "sorted(list(enumerate(similarity[0])), reverse=True, key = lambda x : x[1])[1:6]"
   ],
   "metadata": {
    "collapsed": false
   }
  },
  {
   "cell_type": "code",
   "execution_count": 134,
   "outputs": [],
   "source": [
    "def recommend(movie):\n",
    "    movie_index = new_df[new_df['title'] == movie].index[0]\n",
    "    distances = similarity[movie_index]\n",
    "    movie_list = sorted(list(enumerate(distances)), reverse=True, key = lambda x : x[1])[1:6]\n",
    "\n",
    "    for i in movie_list:\n",
    "        print(new_df.iloc[i[0]].title)"
   ],
   "metadata": {
    "collapsed": false
   }
  },
  {
   "cell_type": "code",
   "execution_count": null,
   "outputs": [],
   "source": [],
   "metadata": {
    "collapsed": false
   }
  },
  {
   "cell_type": "code",
   "execution_count": 136,
   "outputs": [
    {
     "data": {
      "text/plain": "0                                         Avatar\n1       Pirates of the Caribbean: At World's End\n2                                        Spectre\n3                          The Dark Knight Rises\n4                                    John Carter\n                          ...                   \n4804                                 El Mariachi\n4805                                   Newlyweds\n4806                   Signed, Sealed, Delivered\n4807                            Shanghai Calling\n4808                           My Date with Drew\nName: title, Length: 4806, dtype: object"
     },
     "execution_count": 136,
     "metadata": {},
     "output_type": "execute_result"
    }
   ],
   "source": [
    "new_df.title"
   ],
   "metadata": {
    "collapsed": false
   }
  },
  {
   "cell_type": "markdown",
   "source": [
    "### Enter any movie name below from the list above"
   ],
   "metadata": {
    "collapsed": false
   }
  },
  {
   "cell_type": "code",
   "execution_count": 138,
   "outputs": [
    {
     "name": "stdout",
     "output_type": "stream",
     "text": [
      "The Avengers\n",
      "Iron Man 2\n",
      "Captain America: Civil War\n",
      "Iron Man 3\n",
      "Iron Man\n"
     ]
    }
   ],
   "source": [
    "recommend(\"Avengers: Age of Ultron\")"
   ],
   "metadata": {
    "collapsed": false
   }
  },
  {
   "cell_type": "code",
   "execution_count": null,
   "outputs": [],
   "source": [],
   "metadata": {
    "collapsed": false
   }
  }
 ],
 "metadata": {
  "kernelspec": {
   "display_name": "Python 3",
   "language": "python",
   "name": "python3"
  },
  "language_info": {
   "codemirror_mode": {
    "name": "ipython",
    "version": 2
   },
   "file_extension": ".py",
   "mimetype": "text/x-python",
   "name": "python",
   "nbconvert_exporter": "python",
   "pygments_lexer": "ipython2",
   "version": "2.7.6"
  }
 },
 "nbformat": 4,
 "nbformat_minor": 0
}
